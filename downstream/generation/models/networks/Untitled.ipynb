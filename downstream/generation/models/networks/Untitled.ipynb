{
 "cells": [
  {
   "cell_type": "code",
   "execution_count": 1,
   "id": "macro-shore",
   "metadata": {},
   "outputs": [],
   "source": [
    "import torch"
   ]
  },
  {
   "cell_type": "code",
   "execution_count": 8,
   "id": "attached-postage",
   "metadata": {},
   "outputs": [],
   "source": [
    "import resnet_1ch\n",
    "import os"
   ]
  },
  {
   "cell_type": "code",
   "execution_count": 3,
   "id": "clinical-sarah",
   "metadata": {},
   "outputs": [],
   "source": [
    "ch = torch.load('lr_00001_strong_aug_checkpoint_0004.pth.tar')"
   ]
  },
  {
   "cell_type": "code",
   "execution_count": 22,
   "id": "subjective-memphis",
   "metadata": {},
   "outputs": [],
   "source": [
    "path = 'lr_00001_strong_aug_checkpoint_0004.pth.tar'"
   ]
  },
  {
   "cell_type": "code",
   "execution_count": 19,
   "id": "enormous-sapphire",
   "metadata": {},
   "outputs": [],
   "source": [
    "def load_moco_model(model, path):\n",
    "    resnet_model_pretrained = path\n",
    "    if resnet_model_pretrained is not None:\n",
    "        if os.path.isfile(resnet_model_pretrained):\n",
    "            print(\"=> loading checkpoint '{}'\".format(resnet_model_pretrained))\n",
    "            checkpoint = torch.load(resnet_model_pretrained, map_location=\"cpu\")\n",
    "\n",
    "            # rename moco pre-trained keys\n",
    "            state_dict = checkpoint['state_dict']\n",
    "            for k in list(state_dict.keys()):\n",
    "                # retain only encoder_q up to before the embedding layer\n",
    "                if k.startswith('module.encoder_q') and not k.startswith('module.encoder_q.fc'):\n",
    "                    # remove prefix\n",
    "                    state_dict[k[len(\"module.encoder_q.\"):]] = state_dict[k]\n",
    "                # delete renamed or unused k\n",
    "                del state_dict[k]\n",
    "\n",
    "            msg = model.load_state_dict(state_dict, strict=False)\n",
    "            assert set(msg.missing_keys) == {\"fc.weight\", \"fc.bias\"}\n",
    "\n",
    "            print(\"=> loaded pre-trained model '{}'\".format(resnet_model_pretrained))\n",
    "        else:\n",
    "            print(\"=> no checkpoint found at '{}'\".format(resnet_model_pretrained))\n",
    "\n",
    "        ###freeze all layers but the last fc\n",
    "        # for name, param in model.named_parameters():\n",
    "        #     if name not in ['fc.weight', 'fc.bias']:\n",
    "        #         param.requires_grad = False"
   ]
  },
  {
   "cell_type": "code",
   "execution_count": 26,
   "id": "charitable-garage",
   "metadata": {},
   "outputs": [],
   "source": [
    "model = resnet_1ch.resnet50()\n",
    "# A.load_state_dict(ch , strict=False)"
   ]
  },
  {
   "cell_type": "code",
   "execution_count": 27,
   "id": "turkish-minnesota",
   "metadata": {
    "tags": []
   },
   "outputs": [
    {
     "data": {
      "text/plain": [
       "Parameter containing:\n",
       "tensor([[[[-0.0552, -0.0051,  0.0051,  ...,  0.0269, -0.0193, -0.0009],\n",
       "          [ 0.0291,  0.0080,  0.0054,  ...,  0.0072,  0.0142,  0.0694],\n",
       "          [ 0.0089,  0.0305,  0.0213,  ...,  0.0226,  0.0277, -0.0016],\n",
       "          ...,\n",
       "          [ 0.0326,  0.0202, -0.0085,  ..., -0.0070,  0.0368, -0.0256],\n",
       "          [ 0.0434,  0.0048, -0.0006,  ...,  0.0050, -0.0109, -0.0299],\n",
       "          [-0.0046,  0.0248, -0.0409,  ...,  0.0199,  0.0127, -0.0036]]],\n",
       "\n",
       "\n",
       "        [[[-0.0183, -0.0033,  0.0342,  ..., -0.0038,  0.0074,  0.0260],\n",
       "          [-0.0460, -0.0027, -0.0450,  ...,  0.0215, -0.0183, -0.0483],\n",
       "          [ 0.0073, -0.0627,  0.0240,  ...,  0.0082,  0.0367,  0.0192],\n",
       "          ...,\n",
       "          [-0.0095,  0.0149,  0.0094,  ..., -0.0208, -0.0192,  0.0060],\n",
       "          [-0.0116,  0.0339,  0.0149,  ..., -0.0114, -0.0014,  0.0014],\n",
       "          [-0.0006, -0.0130,  0.0344,  ..., -0.0498,  0.0144,  0.0218]]],\n",
       "\n",
       "\n",
       "        [[[-0.0352, -0.0387, -0.0035,  ..., -0.0107, -0.0223, -0.0211],\n",
       "          [-0.0101,  0.0022, -0.0025,  ..., -0.0226,  0.0158,  0.0027],\n",
       "          [-0.0304, -0.0109, -0.0370,  ..., -0.0475,  0.0028,  0.0247],\n",
       "          ...,\n",
       "          [-0.0225,  0.0101, -0.0115,  ...,  0.0088,  0.0583, -0.0099],\n",
       "          [-0.0124,  0.0037,  0.0098,  ...,  0.0241,  0.0002,  0.0054],\n",
       "          [-0.0023,  0.0021,  0.0100,  ...,  0.0511,  0.0038,  0.0561]]],\n",
       "\n",
       "\n",
       "        ...,\n",
       "\n",
       "\n",
       "        [[[ 0.0037,  0.0327,  0.0010,  ..., -0.0183,  0.0377,  0.0147],\n",
       "          [-0.0140,  0.0139, -0.0099,  ..., -0.0078, -0.0037, -0.0200],\n",
       "          [-0.0081, -0.0007, -0.0056,  ...,  0.0272,  0.0342, -0.0646],\n",
       "          ...,\n",
       "          [ 0.0246, -0.0011,  0.0082,  ...,  0.0447,  0.0288,  0.0039],\n",
       "          [-0.0389, -0.0270, -0.0404,  ..., -0.0381, -0.0226, -0.0023],\n",
       "          [-0.0632, -0.0272, -0.0064,  ...,  0.0178, -0.0014, -0.0423]]],\n",
       "\n",
       "\n",
       "        [[[-0.0151,  0.0029, -0.0249,  ..., -0.0420,  0.0375,  0.0404],\n",
       "          [ 0.0014,  0.0316, -0.0315,  ..., -0.0159,  0.0129, -0.0283],\n",
       "          [ 0.0265, -0.0101, -0.0094,  ...,  0.0263,  0.0074, -0.0260],\n",
       "          ...,\n",
       "          [-0.0039, -0.0332,  0.0208,  ...,  0.0002, -0.0094,  0.0015],\n",
       "          [-0.0488, -0.0140, -0.0280,  ...,  0.0036, -0.0065,  0.0047],\n",
       "          [ 0.0605,  0.0264, -0.0219,  ..., -0.0304,  0.0050, -0.0247]]],\n",
       "\n",
       "\n",
       "        [[[-0.0118, -0.0341,  0.0105,  ...,  0.0132,  0.0260, -0.0066],\n",
       "          [ 0.0463, -0.0161,  0.0105,  ...,  0.0215,  0.0268, -0.0353],\n",
       "          [ 0.0112,  0.0297,  0.0230,  ...,  0.0063, -0.0190, -0.0461],\n",
       "          ...,\n",
       "          [-0.0098, -0.0043,  0.0031,  ...,  0.0360, -0.0089,  0.0040],\n",
       "          [ 0.0290,  0.0265, -0.0020,  ..., -0.0110,  0.0376, -0.0256],\n",
       "          [ 0.0335,  0.0461, -0.0329,  ...,  0.0045,  0.0322, -0.0265]]]],\n",
       "       requires_grad=True)"
      ]
     },
     "execution_count": 27,
     "metadata": {},
     "output_type": "execute_result"
    }
   ],
   "source": [
    "model.conv1.weight"
   ]
  },
  {
   "cell_type": "code",
   "execution_count": 29,
   "id": "accredited-graphic",
   "metadata": {},
   "outputs": [
    {
     "data": {
      "text/plain": [
       "Parameter containing:\n",
       "tensor([[[[ 0.0380,  0.0194,  0.0191,  ...,  0.0293, -0.0056, -0.0118],\n",
       "          [ 0.0290,  0.0299,  0.0266,  ...,  0.0235,  0.0015,  0.0012],\n",
       "          [ 0.0252,  0.0150,  0.0057,  ...,  0.0171, -0.0142, -0.0243],\n",
       "          ...,\n",
       "          [ 0.0385,  0.0170,  0.0152,  ...,  0.0209, -0.0164, -0.0621],\n",
       "          [ 0.0149,  0.0041,  0.0040,  ...,  0.0038, -0.0816, -0.0898],\n",
       "          [ 0.0392,  0.0120,  0.0206,  ..., -0.0129, -0.0484, -0.0527]]],\n",
       "\n",
       "\n",
       "        [[[ 0.0629,  0.0806,  0.0878,  ...,  0.0861,  0.0805,  0.0640],\n",
       "          [ 0.0511,  0.0615,  0.0588,  ...,  0.0628,  0.0585,  0.0384],\n",
       "          [ 0.0454,  0.0530,  0.0713,  ...,  0.0680,  0.0548,  0.0467],\n",
       "          ...,\n",
       "          [-0.0552, -0.0431, -0.0455,  ..., -0.0591, -0.0670, -0.0681],\n",
       "          [-0.0327, -0.0308, -0.0278,  ..., -0.0436, -0.0550, -0.0508],\n",
       "          [-0.0294, -0.0231, -0.0250,  ..., -0.0321, -0.0393, -0.0307]]],\n",
       "\n",
       "\n",
       "        [[[-0.0231,  0.0075, -0.0010,  ...,  0.0091,  0.0029,  0.0116],\n",
       "          [-0.0024,  0.0140,  0.0232,  ...,  0.0222,  0.0072,  0.0156],\n",
       "          [-0.0007,  0.0187,  0.0204,  ...,  0.0206,  0.0166,  0.0122],\n",
       "          ...,\n",
       "          [-0.0063,  0.0171,  0.0183,  ...,  0.0139,  0.0111,  0.0062],\n",
       "          [-0.0166,  0.0081,  0.0084,  ...,  0.0109,  0.0079,  0.0074],\n",
       "          [-0.0308, -0.0054,  0.0113,  ...,  0.0110,  0.0084,  0.0110]]],\n",
       "\n",
       "\n",
       "        ...,\n",
       "\n",
       "\n",
       "        [[[-0.0140, -0.0321, -0.0083,  ...,  0.0227,  0.0297,  0.0590],\n",
       "          [-0.0176, -0.0480, -0.0428,  ...,  0.0389,  0.0516,  0.0676],\n",
       "          [-0.0235, -0.0872, -0.0657,  ...,  0.0547,  0.0701,  0.0793],\n",
       "          ...,\n",
       "          [-0.0384, -0.0918, -0.0669,  ...,  0.0237,  0.0327,  0.0551],\n",
       "          [-0.0180, -0.0558, -0.0384,  ...,  0.0156,  0.0156,  0.0256],\n",
       "          [-0.0194, -0.0437, -0.0120,  ..., -0.0008, -0.0021,  0.0062]]],\n",
       "\n",
       "\n",
       "        [[[-0.0024, -0.0039, -0.0031,  ...,  0.0032,  0.0052, -0.0092],\n",
       "          [-0.0115, -0.0022, -0.0060,  ..., -0.0057, -0.0102, -0.0062],\n",
       "          [-0.0267, -0.0178, -0.0236,  ..., -0.0160, -0.0161, -0.0159],\n",
       "          ...,\n",
       "          [-0.0232, -0.0065, -0.0063,  ..., -0.0096, -0.0074, -0.0025],\n",
       "          [-0.0132,  0.0031, -0.0068,  ..., -0.0115, -0.0062,  0.0017],\n",
       "          [-0.0016,  0.0070,  0.0046,  ...,  0.0039,  0.0091,  0.0112]]],\n",
       "\n",
       "\n",
       "        [[[-0.0221,  0.1216,  0.1095,  ..., -0.0818, -0.1039, -0.0916],\n",
       "          [ 0.0220,  0.1921,  0.1822,  ..., -0.0436, -0.1620, -0.1728],\n",
       "          [ 0.0470,  0.2028,  0.2080,  ..., -0.0080, -0.1907, -0.2304],\n",
       "          ...,\n",
       "          [ 0.0103,  0.1408,  0.1534,  ..., -0.0571, -0.1767, -0.1857],\n",
       "          [ 0.0017,  0.1104,  0.0897,  ..., -0.0831, -0.1376, -0.1076],\n",
       "          [-0.0226,  0.0690,  0.0494,  ..., -0.0754, -0.0986, -0.0614]]]],\n",
       "       requires_grad=True)"
      ]
     },
     "execution_count": 29,
     "metadata": {},
     "output_type": "execute_result"
    }
   ],
   "source": [
    "model.conv1.weight"
   ]
  },
  {
   "cell_type": "code",
   "execution_count": 28,
   "id": "complete-workstation",
   "metadata": {},
   "outputs": [
    {
     "name": "stdout",
     "output_type": "stream",
     "text": [
      "=> loading checkpoint 'lr_00001_strong_aug_checkpoint_0004.pth.tar'\n",
      "=> loaded pre-trained model 'lr_00001_strong_aug_checkpoint_0004.pth.tar'\n"
     ]
    }
   ],
   "source": [
    "load_moco_model(model, path)"
   ]
  },
  {
   "cell_type": "code",
   "execution_count": 16,
   "id": "initial-infrastructure",
   "metadata": {},
   "outputs": [
    {
     "ename": "AttributeError",
     "evalue": "'Parameter' object has no attribute 'state_dict'",
     "output_type": "error",
     "traceback": [
      "\u001b[0;31m---------------------------------------------------------------------------\u001b[0m",
      "\u001b[0;31mAttributeError\u001b[0m                            Traceback (most recent call last)",
      "\u001b[0;32m<ipython-input-16-a32560c8f40d>\u001b[0m in \u001b[0;36m<module>\u001b[0;34m\u001b[0m\n\u001b[0;32m----> 1\u001b[0;31m \u001b[0mch\u001b[0m\u001b[0;34m[\u001b[0m\u001b[0;34m'conv1.weight'\u001b[0m\u001b[0;34m]\u001b[0m\u001b[0;34m.\u001b[0m\u001b[0mstate_dict\u001b[0m\u001b[0;34m\u001b[0m\u001b[0;34m\u001b[0m\u001b[0m\n\u001b[0m",
      "\u001b[0;31mAttributeError\u001b[0m: 'Parameter' object has no attribute 'state_dict'"
     ]
    }
   ],
   "source": [
    "ch['conv1.weight'].state_dict"
   ]
  },
  {
   "cell_type": "code",
   "execution_count": null,
   "id": "italian-river",
   "metadata": {},
   "outputs": [],
   "source": []
  }
 ],
 "metadata": {
  "kernelspec": {
   "display_name": "Python 3",
   "language": "python",
   "name": "python3"
  },
  "language_info": {
   "codemirror_mode": {
    "name": "ipython",
    "version": 3
   },
   "file_extension": ".py",
   "mimetype": "text/x-python",
   "name": "python",
   "nbconvert_exporter": "python",
   "pygments_lexer": "ipython3",
   "version": "3.6.9"
  }
 },
 "nbformat": 4,
 "nbformat_minor": 5
}
